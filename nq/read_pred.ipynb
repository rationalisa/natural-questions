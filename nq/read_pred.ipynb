{
 "cells": [
  {
   "cell_type": "code",
   "execution_count": 14,
   "metadata": {},
   "outputs": [],
   "source": [
    "import eval_utils as util\n",
    "import os\n",
    "import json\n",
    "gold_path = '/storage/datset/v1.0_sample_nq-dev-sample.jsonl.gz'\n",
    "gold_path = '/storage/datset/v1.0-simplified_nq-dev-all.jsonl.gz'\n",
    "pred1_path = '/storage/model/BERT_SQUAD_TOK_L2/cp6500_nbest.json'\n",
    "pred2_path = '/storage/model/BERT_SQUAD_TOK_L_REL/cp23600_nbest.json'\n",
    "nq_gold_dict = util.read_annotation(gold_path)\n"
   ]
  },
  {
   "cell_type": "code",
   "execution_count": 19,
   "metadata": {},
   "outputs": [
    {
     "name": "stdout",
     "output_type": "stream",
     "text": [
      "gold!!! [(44, 161), (44, 161)]\n",
      "<P> In meteorology , the trade winds act as the steering flow for tropical storms that form over the Atlantic , Pacific , and southern Indian Oceans and make landfall in North America , Southeast Asia , and Madagascar and eastern Africa , respectively . Trade winds also transport African dust westward across the Atlantic Ocean into the Caribbean Sea , as well as portions of southeastern North America . Shallow cumulus clouds are seen within trade wind regimes , and are capped from becoming taller by a trade wind inversion , which is caused by descending air aloft from within the subtropical ridge . The weaker the trade winds become , the more rainfall can be expected in the neighboring landmasses . </P> 161 285 0.6156162023544312\n",
      "<P> The trade winds are the prevailing pattern of easterly surface winds found in the tropics , within the lower portion of the Earth 's atmosphere , in the lower section of the troposphere near the Earth 's equator . The trade winds blow predominantly from the northeast in the Northern Hemisphere and from the southeast in the Southern Hemisphere , strengthening during the winter and when the Arctic oscillation is in its warm phase . Trade winds have been used by captains of sailing ships to cross the world 's oceans for centuries , and enabled European empire expansion into the Americas and trade routes to become established across the Atlantic and Pacific oceans . </P> 44 161 0.771506667137146\n",
      "####################################################################################################\n",
      "gold!!! [(43, 122), (4485, 4593)]\n",
      "<P> Radio waves in the shortwave band can be reflected or refracted from a layer of electrically charged atoms in the atmosphere called the ionosphere . Therefore , short waves directed at an angle into the sky can be reflected back to Earth at great distances , beyond the horizon . This is called skywave or `` skip '' propagation . Thus shortwave radio can be used for very long distance communication , in contrast to radio waves of higher frequency which travel in straight lines ( line - of - sight propagation ) and are limited by the visual horizon , about 40 miles ( 64 km ) . Shortwave radio is used for broadcasting of voice and music to shortwave listeners over very large areas ; sometimes entire continents or beyond . It is also used for military over-the - horizon radar , diplomatic communication , and two - way international communication by amateur radio enthusiasts for hobby , educational and emergency purposes , as well as for long distance aviation and marine communications . </P> 122 300 0.9870247840881348\n",
      "<P> Shortwave radio is radio transmission using shortwave radio frequencies . There is no official definition of the band , but the range always includes all of the high frequency band ( HF ) , and generally extends from 1.7 -- 30 MHz ( 176.3 -- 10.0 m ) ; from the high end of the medium frequency band ( MF ) just above the mediumwave AM broadcast band , to the end of the HF band . </P> 43 122 0.7497777938842773\n",
      "####################################################################################################\n",
      "gold!!! [(975, 1141)]\n",
      "<P> Nigeria is a country in West Africa . Nigeria shares land borders with the Republic of Benin in the west , Chad and Cameroon in the east , and Niger in the north . Its coast lies on the Gulf of Guinea in the south and it borders Lake Chad to the northeast . Noted geographical features in Nigeria include the Adamawa highlands , Mambilla Plateau , Jos Plateau , Obudu Plateau , the Niger River , River Benue and Niger Delta . </P> 30 115 0.8055459260940552\n",
      "<P> Nigeria is a country in West Africa . Nigeria shares land borders with the Republic of Benin in the west , Chad and Cameroon in the east , and Niger in the north . Its coast lies on the Gulf of Guinea in the south and it borders Lake Chad to the northeast . Noted geographical features in Nigeria include the Adamawa highlands , Mambilla Plateau , Jos Plateau , Obudu Plateau , the Niger River , River Benue and Niger Delta . </P> 30 115 0.9016895294189453\n",
      "####################################################################################################\n",
      "gold!!! [(474, 752), (474, 752)]\n",
      "<P> The Cyrus Cylinder ( Persian : استوانه کوروش ‎ , translit . Ostovane - ye Kūrosh ) or Cyrus Charter ( منشور کوروش Manshūre Kūrosh ) is an ancient clay cylinder , now broken into several pieces , on which is written a declaration in Akkadian cuneiform script in the name of Persia 's Achaemenid king Cyrus the Great . It dates from the 6th century BC and was discovered in the ruins of Babylon in Mesopotamia ( modern Iraq ) in 1879 . It is currently in the possession of the British Museum , which sponsored the expedition that discovered the cylinder . It was created and used as a foundation deposit following the Persian conquest of Babylon in 539 BC , when the Neo-Babylonian Empire was invaded by Cyrus and incorporated into his Persian Empire . </P> 149 289 0.9890991449356079\n",
      "<P> The Cyrus Cylinder ( Persian : استوانه کوروش ‎ , translit . Ostovane - ye Kūrosh ) or Cyrus Charter ( منشور کوروش Manshūre Kūrosh ) is an ancient clay cylinder , now broken into several pieces , on which is written a declaration in Akkadian cuneiform script in the name of Persia 's Achaemenid king Cyrus the Great . It dates from the 6th century BC and was discovered in the ruins of Babylon in Mesopotamia ( modern Iraq ) in 1879 . It is currently in the possession of the British Museum , which sponsored the expedition that discovered the cylinder . It was created and used as a foundation deposit following the Persian conquest of Babylon in 539 BC , when the Neo-Babylonian Empire was invaded by Cyrus and incorporated into his Persian Empire . </P> 149 289 0.8468722105026245\n",
      "####################################################################################################\n",
      "gold!!! [(1006, 1082), (1006, 1082), (1006, 1082)]\n",
      "<P> Upon independence in August 1947 , the title of Viceroy was abolished . The representative of the British Sovereign became known once again as the Governor - General . C. Rajagopalachari became the only Indian Governor - General . However , once India acquired independence , the Governor - General 's role became almost entirely ceremonial , with power being exercised on a day - to - day basis by the Indian cabinet . After the nation became a republic in 1950 , the President of India continued to perform the same functions . </P> 1577 1673 0.8294115662574768\n",
      "<P> Governors - General served at the pleasure of the sovereign , though the practice was to have them serve five - year terms . Governors - General could have their commission rescinded ; and if one was removed , or left , a provisional governor - general was sometimes appointed until a new holder of the office could be chosen . The first Governor - General of British India was Warren Hastings , and the first Governor - General of independent India was Louis Mountbatten . </P> 622 710 0.21315893530845642\n",
      "####################################################################################################\n",
      "gold!!! [(5725, 6269), (6150, 6192), (5725, 6269), (5725, 6269), (5725, 6269)]\n",
      "<P> As of January 18 , 2018 , 114 episodes of Scandal have aired , including one special . On February 10 , 2017 , the show was renewed for a seventh season consisting of 18 episodes . It was later announced it will be the final season . </P> 243 293 0.9990409016609192\n",
      "<P> As of January 18 , 2018 , 114 episodes of Scandal have aired , including one special . On February 10 , 2017 , the show was renewed for a seventh season consisting of 18 episodes . It was later announced it will be the final season . </P> 243 293 0.7203410863876343\n",
      "####################################################################################################\n",
      "gold!!! [(118, 498)]\n",
      "empty -1 -1 2.317058707588405e-05\n",
      "<Table> <Tr> <Th> No . </Th> <Th> Name </Th> <Th> Field </Th> <Th> Affiliation </Th> <Th> Date of Appointment </Th> <Th> Date of Retirement </Th> </Tr> <Tr> <Th> </Th> <Td> Roopa Ganguly </Td> <Td> Art </Td> <Td> Bharatiya Janata Party </Td> <Td> 04 - Oct - 2016 </Td> <Td> 03 - Oct - 2022 </Td> </Tr> <Tr> <Th> </Th> <Td> Sambhaji Raje </Td> <Td> Social work </Td> <Td> Bharatiya Janata Party </Td> <Td> 07 - Jun - 2016 </Td> <Td> 03 - May - 2022 </Td> </Tr> 118 205 0.19908499717712402\n",
      "####################################################################################################\n",
      "gold!!! [(636, 3182), (636, 3182)]\n",
      "<P> Some playoff rounds ( such as MLB 's current Division Series ) are played in a best of five format , such that game five has similar qualities to those described above , though the suspense and drama have less time to build in a shorter series . Furthermore , the World Series of 1903 , 1919 , 1920 , and 1921 were played in a best of nine format , though none of the four went to a decisive game nine . </P> 265 350 0.28587111830711365\n",
      "<P> A game seven is the final game of a best of seven series . This game can occur in the postseasons for Major League Baseball ( MLB ) ( League Championship Series and World Series ) , the National Basketball Association ( NBA ) ( all rounds of the NBA playoffs ) , and the National Hockey League ( NHL ) ( all rounds of the Stanley Cup playoffs ) . </P> 32 105 0.3568309247493744\n",
      "####################################################################################################\n"
     ]
    }
   ],
   "source": [
    "correct_num = 0\n",
    "with open(pred2_path, 'r') as f:\n",
    "    with open(pred1_path,'r') as f2:\n",
    "        predictions = json.loads(f.read())\n",
    "        predictions2 = json.loads(f2.read())\n",
    "        nq_pred_dict = {}\n",
    "        for (i, ids) in enumerate(predictions):\n",
    "            has_gold = False\n",
    "            correct = False\n",
    "            golds = []\n",
    "            for item in nq_gold_dict[int(ids)]:\n",
    "                if not item.long_answer_span.is_null_span():\n",
    "                    has_gold = True\n",
    "                    golds.append((item.long_answer_span.start_token_idx,item.long_answer_span.end_token_idx))\n",
    "                    #print('gold!!!',item.long_answer_span.start_token_idx,item.long_answer_span.end_token_idx)\n",
    "            if has_gold:\n",
    "                for (s, e) in golds:\n",
    "                    if predictions[ids][0]['start_token'] == s and predictions[ids][0]['end_token'] == e:\n",
    "                        correct = True\n",
    "                        correct_num += 1\n",
    "                        break\n",
    "                if not correct:\n",
    "                    print('gold!!!', golds)\n",
    "                    for j, (item, item2) in enumerate(zip(predictions[ids],predictions2[ids])):\n",
    "                        print(item['text'], item['start_token'], item['end_token'],item[\"probability\"])                       \n",
    "                        print(item2['text'], item2['start_token'], item2['end_token'],item2[\"probability\"])\n",
    "                        if j ==0:\n",
    "                            break\n",
    "                    print('#'*100)\n",
    "            if i == 30:\n",
    "                break"
   ]
  },
  {
   "cell_type": "code",
   "execution_count": null,
   "metadata": {},
   "outputs": [],
   "source": []
  }
 ],
 "metadata": {
  "kernelspec": {
   "display_name": "Python 3",
   "language": "python",
   "name": "python3"
  },
  "language_info": {
   "codemirror_mode": {
    "name": "ipython",
    "version": 3
   },
   "file_extension": ".py",
   "mimetype": "text/x-python",
   "name": "python",
   "nbconvert_exporter": "python",
   "pygments_lexer": "ipython3",
   "version": "3.6.9"
  }
 },
 "nbformat": 4,
 "nbformat_minor": 4
}
