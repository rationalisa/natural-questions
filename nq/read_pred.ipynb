{
 "cells": [
  {
   "cell_type": "code",
   "execution_count": 3,
   "metadata": {},
   "outputs": [],
   "source": [
    "import eval_utils as util\n",
    "import os\n",
    "import json\n",
    "gold_path = '/storage/datset/v1.0_sample_nq-dev-sample.jsonl.gz'\n",
    "pred_path = '/storage/model/BERT_SQUAD_TOK_L_REL/cp1000_nbest.json'\n",
    "nq_gold_dict = util.read_annotation(gold_path)\n"
   ]
  },
  {
   "cell_type": "code",
   "execution_count": null,
   "metadata": {},
   "outputs": [],
   "source": [
    "with open(pred_path, 'r') as f:\n",
    "    predictions = json.loads(f.read())\n",
    "    nq_pred_dict = {}\n",
    "    for (i, ids) in enumerate(predictions):\n",
    "        has_gold = False\n",
    "        correct = False\n",
    "        golds = []\n",
    "        for item in nq_gold_dict[int(ids)]:\n",
    "            if not item.long_answer_span.is_null_span():\n",
    "                has_gold = True\n",
    "                golds.append((item.long_answer_span.start_token_idx,item.long_answer_span.end_token_idx))\n",
    "                #print('gold!!!',item.long_answer_span.start_token_idx,item.long_answer_span.end_token_idx)\n",
    "        if has_gold:\n",
    "            for (s, e) in golds:\n",
    "                if predictions[ids][0]['start_token'] == s and predictions[ids][0]['end_token'] == e:\n",
    "                    correct = True\n",
    "                    break\n",
    "            if not correct:\n",
    "                print('gold!!!', golds)\n",
    "                for j, item in enumerate(predictions[ids]):\n",
    "                    print(item['text'], item['start_token'], item['end_token'],item[\"probability\"])\n",
    "                    if j ==2:\n",
    "                        break\n",
    "                print('#'*100)\n",
    "        if i == 20:\n",
    "            break"
   ]
  },
  {
   "cell_type": "code",
   "execution_count": null,
   "metadata": {},
   "outputs": [],
   "source": []
  }
 ],
 "metadata": {
  "kernelspec": {
   "display_name": "Python 3",
   "language": "python",
   "name": "python3"
  },
  "language_info": {
   "codemirror_mode": {
    "name": "ipython",
    "version": 3
   },
   "file_extension": ".py",
   "mimetype": "text/x-python",
   "name": "python",
   "nbconvert_exporter": "python",
   "pygments_lexer": "ipython3",
   "version": "3.6.9"
  }
 },
 "nbformat": 4,
 "nbformat_minor": 4
}
